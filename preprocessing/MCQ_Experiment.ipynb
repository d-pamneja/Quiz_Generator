{
 "cells": [
  {
   "cell_type": "markdown",
   "metadata": {},
   "source": [
    "# Environment Setup"
   ]
  },
  {
   "cell_type": "code",
   "execution_count": 8,
   "metadata": {},
   "outputs": [],
   "source": [
    "import pandas as pd  \n",
    "import numpy as np  \n",
    "import os\n",
    "import json\n",
    "import traceback\n",
    "from dotenv import load_dotenv\n",
    "from langchain.chat_models import ChatOpenAI"
   ]
  },
  {
   "cell_type": "code",
   "execution_count": 11,
   "metadata": {},
   "outputs": [],
   "source": [
    "load_dotenv() # Loading the env to fetch environment variables\n",
    "\n",
    "KEY = os.getenv(\"OPENAI_API_KEY\")"
   ]
  },
  {
   "cell_type": "code",
   "execution_count": 12,
   "metadata": {},
   "outputs": [],
   "source": [
    "llm = ChatOpenAI(openai_api_key=KEY,model_name=\"gpt-3.5-turbo\",temperature=0.3)"
   ]
  },
  {
   "cell_type": "markdown",
   "metadata": {},
   "source": [
    "# Importing the required libraries and modules from Langchain"
   ]
  },
  {
   "cell_type": "code",
   "execution_count": 14,
   "metadata": {},
   "outputs": [],
   "source": [
    "from langchain.llms import OpenAI \n",
    "from langchain.prompts import PromptTemplate \n",
    "from langchain.chains import LLMChain \n",
    "from langchain.chains import SequentialChain \n",
    "from langchain.callbacks import get_openai_callback \n",
    "import PyPDF2"
   ]
  },
  {
   "cell_type": "markdown",
   "metadata": {},
   "source": [
    "# Quiz Generation - Prompt and Chain Initialization"
   ]
  },
  {
   "cell_type": "code",
   "execution_count": 19,
   "metadata": {},
   "outputs": [],
   "source": [
    "RESPONSE_JSON = {\n",
    "    \"1\": {\n",
    "        \"mcq\": \"multiple choice question\",\n",
    "        \"options\": {\n",
    "            \"a\": \"choice here\",\n",
    "            \"b\": \"choice here\",\n",
    "            \"c\": \"choice here\",\n",
    "            \"d\": \"choice here\",\n",
    "        },\n",
    "        \"correct\": \"correct answer\",\n",
    "    },\n",
    "    \"2\": {\n",
    "        \"mcq\": \"multiple choice question\",\n",
    "        \"options\": {\n",
    "            \"a\": \"choice here\",\n",
    "            \"b\": \"choice here\",\n",
    "            \"c\": \"choice here\",\n",
    "            \"d\": \"choice here\",\n",
    "        },\n",
    "        \"correct\": \"correct answer\",\n",
    "    },\n",
    "    \"3\": {\n",
    "        \"mcq\": \"multiple choice question\",\n",
    "        \"options\": {\n",
    "            \"a\": \"choice here\",\n",
    "            \"b\": \"choice here\",\n",
    "            \"c\": \"choice here\",\n",
    "            \"d\": \"choice here\",\n",
    "        },\n",
    "        \"correct\": \"correct answer\",\n",
    "    },\n",
    "}\n"
   ]
  },
  {
   "cell_type": "code",
   "execution_count": 21,
   "metadata": {},
   "outputs": [],
   "source": [
    "TEMPLATE = \"\"\"\n",
    "Text: {text}\n",
    "You are an expert MCQ maker. Given the above text, it is your job to \\\n",
    "create a quiz of {number} multiple choice questions for {subject} students in {tone} tone.\n",
    "Make sure the questions are not repeated and check all the questions to be conforming the text as well.\n",
    "Make sure to format your response likeRESPONSE_JSON below and use it as a guide. \\\n",
    "Ensure to make {number} MCQs\n",
    "\n",
    "### RESPONSE_JSON\n",
    "{response_json}\n",
    "\"\"\"\n",
    "\n",
    "# Here, tone implies difficulty level\n",
    "\n",
    "\n",
    "\n",
    "quizGen_prompt_template = PromptTemplate(\n",
    "    input_variables=[\"text\",\"number\",\"subject\",\"tone\",\"response_json\"],\n",
    "    template=TEMPLATE\n",
    ")\n",
    "\n",
    "\n",
    "quiz_chain = LLMChain(llm=llm,prompt=quizGen_prompt_template,output_key=\"quiz\",verbose=True)"
   ]
  },
  {
   "cell_type": "markdown",
   "metadata": {},
   "source": [
    "# Answer Evalusation Template Initiliazation"
   ]
  },
  {
   "cell_type": "code",
   "execution_count": 22,
   "metadata": {},
   "outputs": [],
   "source": [
    "TEMPLATE2=\"\"\"\n",
    "You are an expert english grammarian and writer. Given a Multiple Choice Quiz for {subject} students.\\\n",
    "You need to evaluate the complexity of the question and give a complete analysis of the quiz. Only use at max 50 words for complexity analysis. \n",
    "if the quiz is not at per with the cognitive and analytical abilities of the students,\\\n",
    "update the quiz questions which needs to be changed and change the tone such that it perfectly fits the student abilities\n",
    "Quiz_MCQs:\n",
    "{quiz}\n",
    "\n",
    "Check from an expert English Writer of the above quiz:\n",
    "\"\"\"\n",
    "\n",
    "quizEval_prompt_template = PromptTemplate(input_variables=[\"subject\",\"quiz\"],template=TEMPLATE2)\n",
    "\n",
    "review_chain = LLMChain(llm=llm,prompt=quizEval_prompt_template,output_key=\"review\",verbose=True)"
   ]
  },
  {
   "cell_type": "markdown",
   "metadata": {},
   "source": [
    "# Sequential Chain Generation\n",
    "Let us now generate a chain of prompts and answers for the quiz generation task. Here, both the above chains will be combined to generate a single chain and give us the final output as desired."
   ]
  },
  {
   "cell_type": "code",
   "execution_count": 23,
   "metadata": {},
   "outputs": [],
   "source": [
    "evaluation_chain = SequentialChain(chains=[quiz_chain,review_chain],input_variables=[\"text\",\"number\",\"subject\",\"tone\",\"response_json\"],\n",
    "                        output_variables=[\"quiz\",\"review\"],verbose=True)"
   ]
  },
  {
   "cell_type": "markdown",
   "metadata": {},
   "source": [
    "# Data Loading"
   ]
  },
  {
   "cell_type": "code",
   "execution_count": 28,
   "metadata": {},
   "outputs": [
    {
     "name": "stdout",
     "output_type": "stream",
     "text": [
      "Machine learning (ML) is a field of study in artificial intelligence concerned with the development and study of statistical algorithms that can learn from data and generalize to unseen data, and thus perform tasks without explicit instructions.[1] Recently, artificial neural networks have been able to surpass many previous approaches in performance.[2][3]\n",
      "Machine learning approaches have been applied to many fields including natural language processing, computer vision, speech recognition, email filtering, agriculture, and medicine.[4][5] ML is known in its application across business problems under the name predictive analytics. Although not all machine learning is statistically based, computational statistics is an important source of the field's methods.\n",
      "The mathematical foundations of ML are provided by mathematical optimization (mathematical programming) methods. Data mining is a related (parallel) field of study, focusing on exploratory data analysis (EDA) through unsupervised learning.[7][8]\n",
      "From a theoretical viewpoint, probably approximately correct (PAC) learning provides a framework for describing machine learning.\n"
     ]
    }
   ],
   "source": [
    "file_path = '../data.txt'\n",
    "with open(file_path,'r') as file:\n",
    "    TEXT = file.read()\n",
    "\n",
    "print(TEXT)"
   ]
  },
  {
   "cell_type": "code",
   "execution_count": 29,
   "metadata": {},
   "outputs": [
    {
     "data": {
      "text/plain": [
       "'{\"1\": {\"mcq\": \"multiple choice question\", \"options\": {\"a\": \"choice here\", \"b\": \"choice here\", \"c\": \"choice here\", \"d\": \"choice here\"}, \"correct\": \"correct answer\"}, \"2\": {\"mcq\": \"multiple choice question\", \"options\": {\"a\": \"choice here\", \"b\": \"choice here\", \"c\": \"choice here\", \"d\": \"choice here\"}, \"correct\": \"correct answer\"}, \"3\": {\"mcq\": \"multiple choice question\", \"options\": {\"a\": \"choice here\", \"b\": \"choice here\", \"c\": \"choice here\", \"d\": \"choice here\"}, \"correct\": \"correct answer\"}}'"
      ]
     },
     "execution_count": 29,
     "metadata": {},
     "output_type": "execute_result"
    }
   ],
   "source": [
    "# Now, let us serialize the above python dictionary into a json-formatted string\n",
    "json.dumps(RESPONSE_JSON)"
   ]
  },
  {
   "cell_type": "markdown",
   "metadata": {},
   "source": [
    "# Callback Function for Quiz Generation\n",
    "Now, we will define a callback function that will be used to generate the quiz questions and answers. This function will be called by the chain to generate the quiz questions and answers. By this, we can track the tokens used in the prompt and the answer and get the cost of the prompt and the answer. Read more here [here](https://python.langchain.com/docs/modules/model_io/llms/token_usage_tracking)."
   ]
  },
  {
   "cell_type": "code",
   "execution_count": 30,
   "metadata": {},
   "outputs": [],
   "source": [
    "NUMBER = 5\n",
    "SUBJECT = \"Machine Learning\"\n",
    "TONE = \"Simple\""
   ]
  },
  {
   "cell_type": "code",
   "execution_count": 31,
   "metadata": {},
   "outputs": [
    {
     "name": "stdout",
     "output_type": "stream",
     "text": [
      "\n",
      "\n",
      "\u001b[1m> Entering new SequentialChain chain...\u001b[0m\n",
      "\n",
      "\n",
      "\u001b[1m> Entering new LLMChain chain...\u001b[0m\n",
      "Prompt after formatting:\n",
      "\u001b[32;1m\u001b[1;3m\n",
      "Text: Machine learning (ML) is a field of study in artificial intelligence concerned with the development and study of statistical algorithms that can learn from data and generalize to unseen data, and thus perform tasks without explicit instructions.[1] Recently, artificial neural networks have been able to surpass many previous approaches in performance.[2][3]\n",
      "Machine learning approaches have been applied to many fields including natural language processing, computer vision, speech recognition, email filtering, agriculture, and medicine.[4][5] ML is known in its application across business problems under the name predictive analytics. Although not all machine learning is statistically based, computational statistics is an important source of the field's methods.\n",
      "The mathematical foundations of ML are provided by mathematical optimization (mathematical programming) methods. Data mining is a related (parallel) field of study, focusing on exploratory data analysis (EDA) through unsupervised learning.[7][8]\n",
      "From a theoretical viewpoint, probably approximately correct (PAC) learning provides a framework for describing machine learning.\n",
      "You are an expert MCQ maker. Given the above text, it is your job to create a quiz of 5 multiple choice questions for Machine Learning students in Simple tone.\n",
      "Make sure the questions are not repeated and check all the questions to be conforming the text as well.\n",
      "Make sure to format your response likeRESPONSE_JSON below and use it as a guide. Ensure to make 5 MCQs\n",
      "\n",
      "### RESPONSE_JSON\n",
      "{\"1\": {\"mcq\": \"multiple choice question\", \"options\": {\"a\": \"choice here\", \"b\": \"choice here\", \"c\": \"choice here\", \"d\": \"choice here\"}, \"correct\": \"correct answer\"}, \"2\": {\"mcq\": \"multiple choice question\", \"options\": {\"a\": \"choice here\", \"b\": \"choice here\", \"c\": \"choice here\", \"d\": \"choice here\"}, \"correct\": \"correct answer\"}, \"3\": {\"mcq\": \"multiple choice question\", \"options\": {\"a\": \"choice here\", \"b\": \"choice here\", \"c\": \"choice here\", \"d\": \"choice here\"}, \"correct\": \"correct answer\"}}\n",
      "\u001b[0m\n",
      "\n",
      "\u001b[1m> Finished chain.\u001b[0m\n",
      "\n",
      "\n",
      "\u001b[1m> Entering new LLMChain chain...\u001b[0m\n",
      "Prompt after formatting:\n",
      "\u001b[32;1m\u001b[1;3m\n",
      "You are an expert english grammarian and writer. Given a Multiple Choice Quiz for Machine Learning students.You need to evaluate the complexity of the question and give a complete analysis of the quiz. Only use at max 50 words for complexity analysis. \n",
      "if the quiz is not at per with the cognitive and analytical abilities of the students,update the quiz questions which needs to be changed and change the tone such that it perfectly fits the student abilities\n",
      "Quiz_MCQs:\n",
      "\n",
      "{\n",
      "    \"1\": {\n",
      "        \"mcq\": \"What is the main focus of machine learning?\",\n",
      "        \"options\": {\n",
      "            \"a\": \"Data visualization\",\n",
      "            \"b\": \"Developing statistical algorithms\",\n",
      "            \"c\": \"Creating artificial neural networks\",\n",
      "            \"d\": \"Building robots\"\n",
      "        },\n",
      "        \"correct\": \"b\"\n",
      "    },\n",
      "    \"2\": {\n",
      "        \"mcq\": \"Which field has machine learning NOT been applied to?\",\n",
      "        \"options\": {\n",
      "            \"a\": \"Natural language processing\",\n",
      "            \"b\": \"Agriculture\",\n",
      "            \"c\": \"Music production\",\n",
      "            \"d\": \"Medicine\"\n",
      "        },\n",
      "        \"correct\": \"c\"\n",
      "    },\n",
      "    \"3\": {\n",
      "        \"mcq\": \"What provides the mathematical foundations for machine learning?\",\n",
      "        \"options\": {\n",
      "            \"a\": \"Data mining\",\n",
      "            \"b\": \"Computational statistics\",\n",
      "            \"c\": \"Mathematical optimization\",\n",
      "            \"d\": \"Artificial intelligence\"\n",
      "        },\n",
      "        \"correct\": \"c\"\n",
      "    },\n",
      "    \"4\": {\n",
      "        \"mcq\": \"Which field focuses on exploratory data analysis through unsupervised learning?\",\n",
      "        \"options\": {\n",
      "            \"a\": \"Machine learning\",\n",
      "            \"b\": \"Data mining\",\n",
      "            \"c\": \"Artificial intelligence\",\n",
      "            \"d\": \"Predictive analytics\"\n",
      "        },\n",
      "        \"correct\": \"b\"\n",
      "    },\n",
      "    \"5\": {\n",
      "        \"mcq\": \"What framework provides a theoretical viewpoint for describing machine learning?\",\n",
      "        \"options\": {\n",
      "            \"a\": \"Artificial intelligence\",\n",
      "            \"b\": \"Data mining\",\n",
      "            \"c\": \"Probably approximately correct (PAC) learning\",\n",
      "            \"d\": \"Computational statistics\"\n",
      "        },\n",
      "        \"correct\": \"c\"\n",
      "    }\n",
      "}\n",
      "\n",
      "Check from an expert English Writer of the above quiz:\n",
      "\u001b[0m\n",
      "\n",
      "\u001b[1m> Finished chain.\u001b[0m\n",
      "\n",
      "\u001b[1m> Finished chain.\u001b[0m\n"
     ]
    }
   ],
   "source": [
    "with get_openai_callback() as cb:\n",
    "    response=evaluation_chain(\n",
    "        {\n",
    "            \"text\": TEXT,\n",
    "            \"number\": NUMBER,\n",
    "            \"subject\":SUBJECT,\n",
    "            \"tone\": TONE,\n",
    "            \"response_json\": json.dumps(RESPONSE_JSON)\n",
    "        }\n",
    "        )"
   ]
  },
  {
   "cell_type": "markdown",
   "metadata": {},
   "source": [
    "Let us get the token usage of the prompt and the answer."
   ]
  },
  {
   "cell_type": "code",
   "execution_count": 36,
   "metadata": {},
   "outputs": [
    {
     "name": "stdout",
     "output_type": "stream",
     "text": [
      "Total Tokens:1343\n",
      "Prompt Tokens:930\n",
      "Completion Tokens:413\n",
      "Total Cost in USD:0.002221\n"
     ]
    }
   ],
   "source": [
    "print(f\"Total Tokens:{cb.total_tokens}\")\n",
    "print(f\"Prompt Tokens:{cb.prompt_tokens}\")\n",
    "print(f\"Completion Tokens:{cb.completion_tokens}\")\n",
    "print(f\"Total Cost in USD:{cb.total_cost}\")"
   ]
  },
  {
   "cell_type": "markdown",
   "metadata": {},
   "source": [
    "Let us now try to get the response from the chain and see our quiz."
   ]
  },
  {
   "cell_type": "code",
   "execution_count": 41,
   "metadata": {},
   "outputs": [
    {
     "data": {
      "text/plain": [
       "{'text': \"Machine learning (ML) is a field of study in artificial intelligence concerned with the development and study of statistical algorithms that can learn from data and generalize to unseen data, and thus perform tasks without explicit instructions.[1] Recently, artificial neural networks have been able to surpass many previous approaches in performance.[2][3]\\nMachine learning approaches have been applied to many fields including natural language processing, computer vision, speech recognition, email filtering, agriculture, and medicine.[4][5] ML is known in its application across business problems under the name predictive analytics. Although not all machine learning is statistically based, computational statistics is an important source of the field's methods.\\nThe mathematical foundations of ML are provided by mathematical optimization (mathematical programming) methods. Data mining is a related (parallel) field of study, focusing on exploratory data analysis (EDA) through unsupervised learning.[7][8]\\nFrom a theoretical viewpoint, probably approximately correct (PAC) learning provides a framework for describing machine learning.\",\n",
       " 'number': 5,\n",
       " 'subject': 'Machine Learning',\n",
       " 'tone': 'Simple',\n",
       " 'response_json': '{\"1\": {\"mcq\": \"multiple choice question\", \"options\": {\"a\": \"choice here\", \"b\": \"choice here\", \"c\": \"choice here\", \"d\": \"choice here\"}, \"correct\": \"correct answer\"}, \"2\": {\"mcq\": \"multiple choice question\", \"options\": {\"a\": \"choice here\", \"b\": \"choice here\", \"c\": \"choice here\", \"d\": \"choice here\"}, \"correct\": \"correct answer\"}, \"3\": {\"mcq\": \"multiple choice question\", \"options\": {\"a\": \"choice here\", \"b\": \"choice here\", \"c\": \"choice here\", \"d\": \"choice here\"}, \"correct\": \"correct answer\"}}',\n",
       " 'quiz': '\\n{\\n    \"1\": {\\n        \"mcq\": \"What is the main focus of machine learning?\",\\n        \"options\": {\\n            \"a\": \"Data visualization\",\\n            \"b\": \"Developing statistical algorithms\",\\n            \"c\": \"Creating artificial neural networks\",\\n            \"d\": \"Building robots\"\\n        },\\n        \"correct\": \"b\"\\n    },\\n    \"2\": {\\n        \"mcq\": \"Which field has machine learning NOT been applied to?\",\\n        \"options\": {\\n            \"a\": \"Natural language processing\",\\n            \"b\": \"Agriculture\",\\n            \"c\": \"Music production\",\\n            \"d\": \"Medicine\"\\n        },\\n        \"correct\": \"c\"\\n    },\\n    \"3\": {\\n        \"mcq\": \"What provides the mathematical foundations for machine learning?\",\\n        \"options\": {\\n            \"a\": \"Data mining\",\\n            \"b\": \"Computational statistics\",\\n            \"c\": \"Mathematical optimization\",\\n            \"d\": \"Artificial intelligence\"\\n        },\\n        \"correct\": \"c\"\\n    },\\n    \"4\": {\\n        \"mcq\": \"Which field focuses on exploratory data analysis through unsupervised learning?\",\\n        \"options\": {\\n            \"a\": \"Machine learning\",\\n            \"b\": \"Data mining\",\\n            \"c\": \"Artificial intelligence\",\\n            \"d\": \"Predictive analytics\"\\n        },\\n        \"correct\": \"b\"\\n    },\\n    \"5\": {\\n        \"mcq\": \"What framework provides a theoretical viewpoint for describing machine learning?\",\\n        \"options\": {\\n            \"a\": \"Artificial intelligence\",\\n            \"b\": \"Data mining\",\\n            \"c\": \"Probably approximately correct (PAC) learning\",\\n            \"d\": \"Computational statistics\"\\n        },\\n        \"correct\": \"c\"\\n    }\\n}',\n",
       " 'review': 'The complexity of the quiz questions is appropriate for Machine Learning students. The questions cover fundamental concepts in a clear and concise manner. The language used is straightforward and accessible to the target audience. No changes are needed.'}"
      ]
     },
     "execution_count": 41,
     "metadata": {},
     "output_type": "execute_result"
    }
   ],
   "source": [
    "response"
   ]
  },
  {
   "cell_type": "code",
   "execution_count": 40,
   "metadata": {},
   "outputs": [
    {
     "data": {
      "text/plain": [
       "{'1': {'mcq': 'What is the main focus of machine learning?',\n",
       "  'options': {'a': 'Data visualization',\n",
       "   'b': 'Developing statistical algorithms',\n",
       "   'c': 'Creating artificial neural networks',\n",
       "   'd': 'Building robots'},\n",
       "  'correct': 'b'},\n",
       " '2': {'mcq': 'Which field has machine learning NOT been applied to?',\n",
       "  'options': {'a': 'Natural language processing',\n",
       "   'b': 'Agriculture',\n",
       "   'c': 'Music production',\n",
       "   'd': 'Medicine'},\n",
       "  'correct': 'c'},\n",
       " '3': {'mcq': 'What provides the mathematical foundations for machine learning?',\n",
       "  'options': {'a': 'Data mining',\n",
       "   'b': 'Computational statistics',\n",
       "   'c': 'Mathematical optimization',\n",
       "   'd': 'Artificial intelligence'},\n",
       "  'correct': 'c'},\n",
       " '4': {'mcq': 'Which field focuses on exploratory data analysis through unsupervised learning?',\n",
       "  'options': {'a': 'Machine learning',\n",
       "   'b': 'Data mining',\n",
       "   'c': 'Artificial intelligence',\n",
       "   'd': 'Predictive analytics'},\n",
       "  'correct': 'b'},\n",
       " '5': {'mcq': 'What framework provides a theoretical viewpoint for describing machine learning?',\n",
       "  'options': {'a': 'Artificial intelligence',\n",
       "   'b': 'Data mining',\n",
       "   'c': 'Probably approximately correct (PAC) learning',\n",
       "   'd': 'Computational statistics'},\n",
       "  'correct': 'c'}}"
      ]
     },
     "execution_count": 40,
     "metadata": {},
     "output_type": "execute_result"
    }
   ],
   "source": [
    "quiz = response.get('quiz')\n",
    "quiz = json.loads(quiz)\n",
    "quiz"
   ]
  },
  {
   "cell_type": "markdown",
   "metadata": {},
   "source": [
    "Let us now convert the response to a DataFrame and display the quiz."
   ]
  },
  {
   "cell_type": "code",
   "execution_count": 42,
   "metadata": {},
   "outputs": [],
   "source": [
    "quiz_table_data = []\n",
    "for key, value in quiz.items():\n",
    "    mcq = value[\"mcq\"]\n",
    "    options = \" | \".join(\n",
    "        [\n",
    "            f\"{option}: {option_value}\"\n",
    "            for option, option_value in value[\"options\"].items()\n",
    "            ]\n",
    "        )\n",
    "    correct = value[\"correct\"]\n",
    "    quiz_table_data.append({\"MCQ\": mcq, \"Choices\": options, \"Correct\": correct})"
   ]
  },
  {
   "cell_type": "code",
   "execution_count": 44,
   "metadata": {},
   "outputs": [
    {
     "data": {
      "text/html": [
       "<div>\n",
       "<style scoped>\n",
       "    .dataframe tbody tr th:only-of-type {\n",
       "        vertical-align: middle;\n",
       "    }\n",
       "\n",
       "    .dataframe tbody tr th {\n",
       "        vertical-align: top;\n",
       "    }\n",
       "\n",
       "    .dataframe thead th {\n",
       "        text-align: right;\n",
       "    }\n",
       "</style>\n",
       "<table border=\"1\" class=\"dataframe\">\n",
       "  <thead>\n",
       "    <tr style=\"text-align: right;\">\n",
       "      <th></th>\n",
       "      <th>MCQ</th>\n",
       "      <th>Choices</th>\n",
       "      <th>Correct</th>\n",
       "    </tr>\n",
       "  </thead>\n",
       "  <tbody>\n",
       "    <tr>\n",
       "      <th>0</th>\n",
       "      <td>What is the main focus of machine learning?</td>\n",
       "      <td>a: Data visualization | b: Developing statisti...</td>\n",
       "      <td>b</td>\n",
       "    </tr>\n",
       "    <tr>\n",
       "      <th>1</th>\n",
       "      <td>Which field has machine learning NOT been appl...</td>\n",
       "      <td>a: Natural language processing | b: Agricultur...</td>\n",
       "      <td>c</td>\n",
       "    </tr>\n",
       "    <tr>\n",
       "      <th>2</th>\n",
       "      <td>What provides the mathematical foundations for...</td>\n",
       "      <td>a: Data mining | b: Computational statistics |...</td>\n",
       "      <td>c</td>\n",
       "    </tr>\n",
       "    <tr>\n",
       "      <th>3</th>\n",
       "      <td>Which field focuses on exploratory data analys...</td>\n",
       "      <td>a: Machine learning | b: Data mining | c: Arti...</td>\n",
       "      <td>b</td>\n",
       "    </tr>\n",
       "    <tr>\n",
       "      <th>4</th>\n",
       "      <td>What framework provides a theoretical viewpoin...</td>\n",
       "      <td>a: Artificial intelligence | b: Data mining | ...</td>\n",
       "      <td>c</td>\n",
       "    </tr>\n",
       "  </tbody>\n",
       "</table>\n",
       "</div>"
      ],
      "text/plain": [
       "                                                 MCQ  \\\n",
       "0        What is the main focus of machine learning?   \n",
       "1  Which field has machine learning NOT been appl...   \n",
       "2  What provides the mathematical foundations for...   \n",
       "3  Which field focuses on exploratory data analys...   \n",
       "4  What framework provides a theoretical viewpoin...   \n",
       "\n",
       "                                             Choices Correct  \n",
       "0  a: Data visualization | b: Developing statisti...       b  \n",
       "1  a: Natural language processing | b: Agricultur...       c  \n",
       "2  a: Data mining | b: Computational statistics |...       c  \n",
       "3  a: Machine learning | b: Data mining | c: Arti...       b  \n",
       "4  a: Artificial intelligence | b: Data mining | ...       c  "
      ]
     },
     "execution_count": 44,
     "metadata": {},
     "output_type": "execute_result"
    }
   ],
   "source": [
    "quiz = pd.DataFrame(quiz_table_data)\n",
    "quiz"
   ]
  },
  {
   "cell_type": "markdown",
   "metadata": {},
   "source": [
    "Now finally, we can export the above DataFrame to a csv file."
   ]
  },
  {
   "cell_type": "code",
   "execution_count": 46,
   "metadata": {},
   "outputs": [],
   "source": [
    "quiz.to_csv(\"ML_MCQ_Quiz.csv\",index= False)"
   ]
  },
  {
   "cell_type": "markdown",
   "metadata": {},
   "source": [
    "With this, we have successfully generated a quiz using Langchain and understood the process of generating a quiz using Langchain. We can now use this above code to take input from a user and generate a quiz based on the input using APIs and deploying the same web application on a cloud platform."
   ]
  }
 ],
 "metadata": {
  "kernelspec": {
   "display_name": ".venv",
   "language": "python",
   "name": "python3"
  },
  "language_info": {
   "codemirror_mode": {
    "name": "ipython",
    "version": 3
   },
   "file_extension": ".py",
   "mimetype": "text/x-python",
   "name": "python",
   "nbconvert_exporter": "python",
   "pygments_lexer": "ipython3",
   "version": "3.9.6"
  },
  "orig_nbformat": 4
 },
 "nbformat": 4,
 "nbformat_minor": 2
}
