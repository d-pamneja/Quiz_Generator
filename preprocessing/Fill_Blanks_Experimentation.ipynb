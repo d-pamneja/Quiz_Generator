{
 "cells": [
  {
   "cell_type": "markdown",
   "metadata": {},
   "source": [
    "# Importing the Dependencies"
   ]
  },
  {
   "cell_type": "code",
   "execution_count": 62,
   "metadata": {},
   "outputs": [],
   "source": [
    "import pandas as pd  \n",
    "import numpy as np  \n",
    "import os\n",
    "import json\n",
    "import jsonify\n",
    "import traceback\n",
    "from dotenv import load_dotenv\n",
    "from langchain.chat_models import ChatOpenAI"
   ]
  },
  {
   "cell_type": "code",
   "execution_count": 63,
   "metadata": {},
   "outputs": [],
   "source": [
    "load_dotenv() # Loading the env to fetch environment variables\n",
    "\n",
    "KEY = os.getenv(\"OPENAI_API_KEY\")"
   ]
  },
  {
   "cell_type": "code",
   "execution_count": 64,
   "metadata": {},
   "outputs": [],
   "source": [
    "llm = ChatOpenAI(openai_api_key=KEY,model_name=\"gpt-3.5-turbo\",temperature=0.3)"
   ]
  },
  {
   "cell_type": "markdown",
   "metadata": {},
   "source": [
    "# Importing the required libraries and modules from Langchain"
   ]
  },
  {
   "cell_type": "code",
   "execution_count": 65,
   "metadata": {},
   "outputs": [],
   "source": [
    "from langchain.llms import OpenAI \n",
    "from langchain.prompts import PromptTemplate \n",
    "from langchain.chains import LLMChain \n",
    "from langchain.chains import SequentialChain \n",
    "from langchain.callbacks import get_openai_callback \n",
    "import PyPDF2"
   ]
  },
  {
   "cell_type": "markdown",
   "metadata": {},
   "source": [
    "# Quiz Generation - Prompt and Chain Initialization"
   ]
  },
  {
   "cell_type": "code",
   "execution_count": 66,
   "metadata": {},
   "outputs": [],
   "source": [
    "RESPONSE_JSON = { # Here, we will just store the correct answer. Later, we can do a direct string match\n",
    "    \"1\": {\n",
    "        \"fbq\": \"fill in the blank question\",\n",
    "        \"correct\": \"correct answer\",\n",
    "    },\n",
    "    \"3\": {\n",
    "        \"fbq\": \"fill in the blank question\",\n",
    "        \"correct\": \"correct answer\",\n",
    "    },\n",
    "    \"3\": {\n",
    "        \"fbq\": \"fill in the blank question\",\n",
    "        \"correct\": \"correct answer\",\n",
    "    }\n",
    "}"
   ]
  },
  {
   "cell_type": "code",
   "execution_count": 74,
   "metadata": {},
   "outputs": [],
   "source": [
    "TEMPLATE = \"\"\"\n",
    "Text: {text}\n",
    "You are an expert Fill in the Blank Question (FBQs) maker. Given the above text/formulas, it is your job to \\\n",
    "create a quiz of {number} Fill in the Blank Question for {subject} students in {tone} tone.\n",
    "Make sure the questions are not repeated and check all the questions to be conforming the text as well.\n",
    "Make sure to format your response like RESPONSE_JSON below and use it as a guide. Basically, it be questions based on numeric \n",
    "formulas and you could use dummy values and give the same to the user. In the end, the user will just give the final answer and \n",
    "that will be string matched with the correct answer. So for example if you are given a formula in text that a^2 + b^2 = c^2, \n",
    "the question will be what is the value of a^2 + b^2, given that a and b are some constants (you can choose those and tell them to the user)\n",
    "and store the answer of the above correct answer. Make sure that the correct answer is a singular value only, as it has to be string matches. If any question \n",
    "may have two or more answers, kindly choose the minimum one\\\n",
    "Ensure to make {number} FBQs\n",
    "\n",
    "### RESPONSE_JSON\n",
    "{response_json}\n",
    "\"\"\"\n",
    "\n",
    "# Here, tone implies difficulty level\n",
    "\n",
    "\n",
    "\n",
    "quizGen_prompt_template = PromptTemplate(\n",
    "    input_variables=[\"text\",\"number\",\"subject\",\"tone\",\"response_json\"],\n",
    "    template=TEMPLATE\n",
    ")\n",
    "\n",
    "\n",
    "quiz_chain = LLMChain(llm=llm,prompt=quizGen_prompt_template,output_key=\"quiz\",verbose=True)"
   ]
  },
  {
   "cell_type": "markdown",
   "metadata": {},
   "source": [
    "# Answer Evalusation Template Initiliazation"
   ]
  },
  {
   "cell_type": "code",
   "execution_count": 75,
   "metadata": {},
   "outputs": [],
   "source": [
    "TEMPLATE2=\"\"\"\n",
    "You are an expert math. Given a Fill in the Blanks Quiz for {subject} students.\\\n",
    "You need to evaluate the complexity of the question and give a complete analysis of the quiz. Only use at max 50 words for complexity analysis. \n",
    "if the quiz is not at per with the cognitive and analytical abilities of the students,\\\n",
    "update the quiz questions which needs to be changed and change the tone such that it perfectly fits the student abilities\n",
    "Quiz_FBQs:\n",
    "{quiz}\n",
    "\n",
    "Check from an expert Math Expert of the above quiz:\n",
    "\"\"\"\n",
    "\n",
    "quizEval_prompt_template = PromptTemplate(input_variables=[\"subject\",\"quiz\"],template=TEMPLATE2)\n",
    "\n",
    "review_chain = LLMChain(llm=llm,prompt=quizEval_prompt_template,output_key=\"review\",verbose=True)"
   ]
  },
  {
   "cell_type": "markdown",
   "metadata": {},
   "source": [
    "# Sequential Chain Generation\n",
    "Let us now generate a chain of prompts and answers for the quiz generation task. Here, both the above chains will be combined to generate a single chain and give us the final output as desired."
   ]
  },
  {
   "cell_type": "code",
   "execution_count": 76,
   "metadata": {},
   "outputs": [],
   "source": [
    "evaluation_chain = SequentialChain(chains=[quiz_chain,review_chain],input_variables=[\"text\",\"number\",\"subject\",\"tone\",\"response_json\"],\n",
    "                        output_variables=[\"quiz\",\"review\"],verbose=True)"
   ]
  },
  {
   "cell_type": "markdown",
   "metadata": {},
   "source": [
    "# Data Loading"
   ]
  },
  {
   "cell_type": "code",
   "execution_count": 77,
   "metadata": {},
   "outputs": [
    {
     "name": "stdout",
     "output_type": "stream",
     "text": [
      "1. Quadratic Formula: ( ax^2 + bx + c = 0 )\n",
      "2. Pythagorean Theorem: ( a^2 + b^2 = c^2 )\n",
      "3. Area of a Circle: ( A = pi r^2 )\n",
      "4. Area of a Triangle: ( A = \\frac{{1}}{{2}}b*h )\n",
      "5. Volume of a Sphere: ( V = frac{{4}}{{3}}pi r^3 )\n",
      "6. Perimeter of a Rectangle: ( P = 2l + 2w )\n",
      "7. Equation of a Line (Point-Slope Form): ( y - y_1 = m(x - x_1) )\n",
      "\n"
     ]
    }
   ],
   "source": [
    "file_path = '../formula_data.txt'\n",
    "with open(file_path,'r') as file:\n",
    "    TEXT = file.read()\n",
    "\n",
    "print(TEXT)"
   ]
  },
  {
   "cell_type": "code",
   "execution_count": 78,
   "metadata": {},
   "outputs": [
    {
     "data": {
      "text/plain": [
       "'{\"1\": {\"fbq\": \"fill in the blank question\", \"correct\": \"correct answer\"}, \"3\": {\"fbq\": \"fill in the blank question\", \"correct\": \"correct answer\"}}'"
      ]
     },
     "execution_count": 78,
     "metadata": {},
     "output_type": "execute_result"
    }
   ],
   "source": [
    "# Now, let us serialize the above python dictionary into a json-formatted string\n",
    "json.dumps(RESPONSE_JSON)"
   ]
  },
  {
   "cell_type": "markdown",
   "metadata": {},
   "source": [
    "# Callback Function for Quiz Generation\n",
    "Now, we will define a callback function that will be used to generate the quiz questions and answers. This function will be called by the chain to generate the quiz questions and answers. By this, we can track the tokens used in the prompt and the answer and get the cost of the prompt and the answer. Read more here [here](https://python.langchain.com/docs/modules/model_io/llms/token_usage_tracking)."
   ]
  },
  {
   "cell_type": "code",
   "execution_count": 79,
   "metadata": {},
   "outputs": [],
   "source": [
    "NUMBER = 5\n",
    "SUBJECT = \"Math Quiz\"\n",
    "TONE = \"Simple\""
   ]
  },
  {
   "cell_type": "code",
   "execution_count": 80,
   "metadata": {},
   "outputs": [
    {
     "name": "stdout",
     "output_type": "stream",
     "text": [
      "\n",
      "\n",
      "\u001b[1m> Entering new SequentialChain chain...\u001b[0m\n",
      "\n",
      "\n",
      "\u001b[1m> Entering new LLMChain chain...\u001b[0m\n",
      "Prompt after formatting:\n",
      "\u001b[32;1m\u001b[1;3m\n",
      "Text: 1. Quadratic Formula: ( ax^2 + bx + c = 0 )\n",
      "2. Pythagorean Theorem: ( a^2 + b^2 = c^2 )\n",
      "3. Area of a Circle: ( A = pi r^2 )\n",
      "4. Area of a Triangle: ( A = \\frac{{1}}{{2}}b*h )\n",
      "5. Volume of a Sphere: ( V = frac{{4}}{{3}}pi r^3 )\n",
      "6. Perimeter of a Rectangle: ( P = 2l + 2w )\n",
      "7. Equation of a Line (Point-Slope Form): ( y - y_1 = m(x - x_1) )\n",
      "\n",
      "You are an expert Fill in the Blank Question (FBQs) maker. Given the above text/formulas, it is your job to create a quiz of 5 Fill in the Blank Question for Math Quiz students in Simple tone.\n",
      "Make sure the questions are not repeated and check all the questions to be conforming the text as well.\n",
      "Make sure to format your response like RESPONSE_JSON below and use it as a guide. Basically, it be questions based on numeric \n",
      "formulas and you could use dummy values and give the same to the user. In the end, the user will just give the final answer and \n",
      "that will be string matched with the correct answer. So for example if you are given a formula in text that a^2 + b^2 = c^2, \n",
      "the question will be what is the value of a^2 + b^2, given that a and b are some constants (you can choose those and tell them to the user)\n",
      "and store the answer of the above correct answer. Make sure that the correct answer is a singular value only, as it has to be string matches. If any question \n",
      "may have two or more answers, kindly choose the minimum oneEnsure to make 5 FBQs\n",
      "\n",
      "### RESPONSE_JSON\n",
      "{\"1\": {\"fbq\": \"fill in the blank question\", \"correct\": \"correct answer\"}, \"3\": {\"fbq\": \"fill in the blank question\", \"correct\": \"correct answer\"}}\n",
      "\u001b[0m\n",
      "\n",
      "\u001b[1m> Finished chain.\u001b[0m\n",
      "\n",
      "\n",
      "\u001b[1m> Entering new LLMChain chain...\u001b[0m\n",
      "Prompt after formatting:\n",
      "\u001b[32;1m\u001b[1;3m\n",
      "You are an expert math. Given a Fill in the Blanks Quiz for Math Quiz students.You need to evaluate the complexity of the question and give a complete analysis of the quiz. Only use at max 50 words for complexity analysis. \n",
      "if the quiz is not at per with the cognitive and analytical abilities of the students,update the quiz questions which needs to be changed and change the tone such that it perfectly fits the student abilities\n",
      "Quiz_FBQs:\n",
      "{\n",
      "\"1\": {\"fbq\": \"What is the value of x in the quadratic formula ax^2 + bx + c = 0, given a = 2, b = 3, and c = 1?\", \"correct\": \"-0.5\"},\n",
      "\"2\": {\"fbq\": \"In the Pythagorean theorem a^2 + b^2 = c^2, if a = 3 and c = 5, what is the value of b?\", \"correct\": \"4\"},\n",
      "\"3\": {\"fbq\": \"Find the area of a circle with radius r = 4. Use the formula A = pi r^2.\", \"correct\": \"50.24\"},\n",
      "\"4\": {\"fbq\": \"Calculate the area of a triangle with base b = 6 and height h = 8. Use the formula A = 1/2*b*h.\", \"correct\": \"24\"},\n",
      "\"5\": {\"fbq\": \"Determine the volume of a sphere with radius r = 3. Use the formula V = 4/3*pi*r^3.\", \"correct\": \"113.04\"}\n",
      "}\n",
      "\n",
      "Check from an expert Math Expert of the above quiz:\n",
      "\u001b[0m\n",
      "\n",
      "\u001b[1m> Finished chain.\u001b[0m\n",
      "\n",
      "\u001b[1m> Finished chain.\u001b[0m\n"
     ]
    }
   ],
   "source": [
    "with get_openai_callback() as cb:\n",
    "    response=evaluation_chain(\n",
    "        {\n",
    "            \"text\": TEXT,\n",
    "            \"number\": NUMBER,\n",
    "            \"subject\":SUBJECT,\n",
    "            \"tone\": TONE,\n",
    "            \"response_json\": json.dumps(RESPONSE_JSON)\n",
    "        }\n",
    "        )"
   ]
  },
  {
   "cell_type": "markdown",
   "metadata": {},
   "source": [
    "Let us get the token usage of the prompt and the answer."
   ]
  },
  {
   "cell_type": "code",
   "execution_count": 81,
   "metadata": {},
   "outputs": [
    {
     "name": "stdout",
     "output_type": "stream",
     "text": [
      "Total Tokens:1074\n",
      "Prompt Tokens:794\n",
      "Completion Tokens:280\n",
      "Total Cost in USD:0.001751\n"
     ]
    }
   ],
   "source": [
    "print(f\"Total Tokens:{cb.total_tokens}\")\n",
    "print(f\"Prompt Tokens:{cb.prompt_tokens}\")\n",
    "print(f\"Completion Tokens:{cb.completion_tokens}\")\n",
    "print(f\"Total Cost in USD:{cb.total_cost}\")"
   ]
  },
  {
   "cell_type": "markdown",
   "metadata": {},
   "source": [
    "Let us now try to get the response from the chain and see our quiz."
   ]
  },
  {
   "cell_type": "code",
   "execution_count": 82,
   "metadata": {},
   "outputs": [
    {
     "data": {
      "text/plain": [
       "{'text': '1. Quadratic Formula: ( ax^2 + bx + c = 0 )\\n2. Pythagorean Theorem: ( a^2 + b^2 = c^2 )\\n3. Area of a Circle: ( A = pi r^2 )\\n4. Area of a Triangle: ( A = \\\\frac{{1}}{{2}}b*h )\\n5. Volume of a Sphere: ( V = frac{{4}}{{3}}pi r^3 )\\n6. Perimeter of a Rectangle: ( P = 2l + 2w )\\n7. Equation of a Line (Point-Slope Form): ( y - y_1 = m(x - x_1) )\\n',\n",
       " 'number': 5,\n",
       " 'subject': 'Math Quiz',\n",
       " 'tone': 'Simple',\n",
       " 'response_json': '{\"1\": {\"fbq\": \"fill in the blank question\", \"correct\": \"correct answer\"}, \"3\": {\"fbq\": \"fill in the blank question\", \"correct\": \"correct answer\"}}',\n",
       " 'quiz': '{\\n\"1\": {\"fbq\": \"What is the value of x in the quadratic formula ax^2 + bx + c = 0, given a = 2, b = 3, and c = 1?\", \"correct\": \"-0.5\"},\\n\"2\": {\"fbq\": \"In the Pythagorean theorem a^2 + b^2 = c^2, if a = 3 and c = 5, what is the value of b?\", \"correct\": \"4\"},\\n\"3\": {\"fbq\": \"Find the area of a circle with radius r = 4. Use the formula A = pi r^2.\", \"correct\": \"50.24\"},\\n\"4\": {\"fbq\": \"Calculate the area of a triangle with base b = 6 and height h = 8. Use the formula A = 1/2*b*h.\", \"correct\": \"24\"},\\n\"5\": {\"fbq\": \"Determine the volume of a sphere with radius r = 3. Use the formula V = 4/3*pi*r^3.\", \"correct\": \"113.04\"}\\n}',\n",
       " 'review': 'The quiz questions are appropriate for high school level students with knowledge of basic algebra and geometry concepts. The complexity lies in applying the formulas correctly. To better fit student abilities, provide more context or step-by-step guidance in the questions.'}"
      ]
     },
     "execution_count": 82,
     "metadata": {},
     "output_type": "execute_result"
    }
   ],
   "source": [
    "response"
   ]
  },
  {
   "cell_type": "code",
   "execution_count": 83,
   "metadata": {},
   "outputs": [
    {
     "data": {
      "text/plain": [
       "{'1': {'fbq': 'What is the value of x in the quadratic formula ax^2 + bx + c = 0, given a = 2, b = 3, and c = 1?',\n",
       "  'correct': '-0.5'},\n",
       " '2': {'fbq': 'In the Pythagorean theorem a^2 + b^2 = c^2, if a = 3 and c = 5, what is the value of b?',\n",
       "  'correct': '4'},\n",
       " '3': {'fbq': 'Find the area of a circle with radius r = 4. Use the formula A = pi r^2.',\n",
       "  'correct': '50.24'},\n",
       " '4': {'fbq': 'Calculate the area of a triangle with base b = 6 and height h = 8. Use the formula A = 1/2*b*h.',\n",
       "  'correct': '24'},\n",
       " '5': {'fbq': 'Determine the volume of a sphere with radius r = 3. Use the formula V = 4/3*pi*r^3.',\n",
       "  'correct': '113.04'}}"
      ]
     },
     "execution_count": 83,
     "metadata": {},
     "output_type": "execute_result"
    }
   ],
   "source": [
    "quiz = response.get('quiz')\n",
    "quiz = json.loads(quiz)\n",
    "quiz"
   ]
  },
  {
   "cell_type": "markdown",
   "metadata": {},
   "source": [
    "Let us now convert the response to a DataFrame and display the quiz."
   ]
  },
  {
   "cell_type": "code",
   "execution_count": 86,
   "metadata": {},
   "outputs": [],
   "source": [
    "quiz_table_data = []\n",
    "for key, value in quiz.items():\n",
    "    tfq = value[\"fbq\"]\n",
    "    correct = value[\"correct\"]\n",
    "    quiz_table_data.append({\"FBQ\": tfq, \"Correct\": correct})"
   ]
  },
  {
   "cell_type": "code",
   "execution_count": 87,
   "metadata": {},
   "outputs": [
    {
     "data": {
      "text/html": [
       "<div>\n",
       "<style scoped>\n",
       "    .dataframe tbody tr th:only-of-type {\n",
       "        vertical-align: middle;\n",
       "    }\n",
       "\n",
       "    .dataframe tbody tr th {\n",
       "        vertical-align: top;\n",
       "    }\n",
       "\n",
       "    .dataframe thead th {\n",
       "        text-align: right;\n",
       "    }\n",
       "</style>\n",
       "<table border=\"1\" class=\"dataframe\">\n",
       "  <thead>\n",
       "    <tr style=\"text-align: right;\">\n",
       "      <th></th>\n",
       "      <th>FBQ</th>\n",
       "      <th>Correct</th>\n",
       "    </tr>\n",
       "  </thead>\n",
       "  <tbody>\n",
       "    <tr>\n",
       "      <th>0</th>\n",
       "      <td>What is the value of x in the quadratic formul...</td>\n",
       "      <td>-0.5</td>\n",
       "    </tr>\n",
       "    <tr>\n",
       "      <th>1</th>\n",
       "      <td>In the Pythagorean theorem a^2 + b^2 = c^2, if...</td>\n",
       "      <td>4</td>\n",
       "    </tr>\n",
       "    <tr>\n",
       "      <th>2</th>\n",
       "      <td>Find the area of a circle with radius r = 4. U...</td>\n",
       "      <td>50.24</td>\n",
       "    </tr>\n",
       "    <tr>\n",
       "      <th>3</th>\n",
       "      <td>Calculate the area of a triangle with base b =...</td>\n",
       "      <td>24</td>\n",
       "    </tr>\n",
       "    <tr>\n",
       "      <th>4</th>\n",
       "      <td>Determine the volume of a sphere with radius r...</td>\n",
       "      <td>113.04</td>\n",
       "    </tr>\n",
       "  </tbody>\n",
       "</table>\n",
       "</div>"
      ],
      "text/plain": [
       "                                                 FBQ Correct\n",
       "0  What is the value of x in the quadratic formul...    -0.5\n",
       "1  In the Pythagorean theorem a^2 + b^2 = c^2, if...       4\n",
       "2  Find the area of a circle with radius r = 4. U...   50.24\n",
       "3  Calculate the area of a triangle with base b =...      24\n",
       "4  Determine the volume of a sphere with radius r...  113.04"
      ]
     },
     "execution_count": 87,
     "metadata": {},
     "output_type": "execute_result"
    }
   ],
   "source": [
    "quiz = pd.DataFrame(quiz_table_data)\n",
    "quiz"
   ]
  },
  {
   "cell_type": "markdown",
   "metadata": {},
   "source": [
    "Now finally, we can export the above DataFrame to a csv file."
   ]
  },
  {
   "cell_type": "code",
   "execution_count": 88,
   "metadata": {},
   "outputs": [],
   "source": [
    "quiz.to_csv(\"ML_FBQ_Quiz.csv\",index= False)"
   ]
  }
 ],
 "metadata": {
  "kernelspec": {
   "display_name": ".venv",
   "language": "python",
   "name": "python3"
  },
  "language_info": {
   "codemirror_mode": {
    "name": "ipython",
    "version": 3
   },
   "file_extension": ".py",
   "mimetype": "text/x-python",
   "name": "python",
   "nbconvert_exporter": "python",
   "pygments_lexer": "ipython3",
   "version": "3.9.6"
  },
  "orig_nbformat": 4
 },
 "nbformat": 4,
 "nbformat_minor": 2
}
