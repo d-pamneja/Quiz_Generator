{
 "cells": [
  {
   "cell_type": "markdown",
   "metadata": {},
   "source": [
    "# Importing the Dependencies"
   ]
  },
  {
   "cell_type": "code",
   "execution_count": 1,
   "metadata": {},
   "outputs": [
    {
     "name": "stderr",
     "output_type": "stream",
     "text": [
      "/Users/dhruv/Desktop/Machine_Learning/Projects/MCQ_Generator/.venv/lib/python3.9/site-packages/urllib3/__init__.py:35: NotOpenSSLWarning: urllib3 v2 only supports OpenSSL 1.1.1+, currently the 'ssl' module is compiled with 'LibreSSL 2.8.3'. See: https://github.com/urllib3/urllib3/issues/3020\n",
      "  warnings.warn(\n"
     ]
    }
   ],
   "source": [
    "import pandas as pd  \n",
    "import numpy as np  \n",
    "import os\n",
    "import json\n",
    "import traceback\n",
    "from dotenv import load_dotenv\n",
    "from langchain.chat_models import ChatOpenAI"
   ]
  },
  {
   "cell_type": "code",
   "execution_count": 2,
   "metadata": {},
   "outputs": [],
   "source": [
    "load_dotenv() # Loading the env to fetch environment variables\n",
    "\n",
    "KEY = os.getenv(\"OPENAI_API_KEY\")"
   ]
  },
  {
   "cell_type": "code",
   "execution_count": 3,
   "metadata": {},
   "outputs": [
    {
     "name": "stderr",
     "output_type": "stream",
     "text": [
      "/Users/dhruv/Desktop/Machine_Learning/Projects/MCQ_Generator/.venv/lib/python3.9/site-packages/langchain_core/_api/deprecation.py:117: LangChainDeprecationWarning: The class `langchain_community.chat_models.openai.ChatOpenAI` was deprecated in langchain-community 0.0.10 and will be removed in 0.2.0. An updated version of the class exists in the langchain-openai package and should be used instead. To use it run `pip install -U langchain-openai` and import as `from langchain_openai import ChatOpenAI`.\n",
      "  warn_deprecated(\n"
     ]
    }
   ],
   "source": [
    "llm = ChatOpenAI(openai_api_key=KEY,model_name=\"gpt-3.5-turbo\",temperature=0.3)"
   ]
  },
  {
   "cell_type": "markdown",
   "metadata": {},
   "source": [
    "# Importing the required libraries and modules from Langchain"
   ]
  },
  {
   "cell_type": "code",
   "execution_count": 4,
   "metadata": {},
   "outputs": [],
   "source": [
    "from langchain.llms import OpenAI \n",
    "from langchain.prompts import PromptTemplate \n",
    "from langchain.chains import LLMChain \n",
    "from langchain.chains import SequentialChain \n",
    "from langchain.callbacks import get_openai_callback \n",
    "import PyPDF2"
   ]
  },
  {
   "cell_type": "markdown",
   "metadata": {},
   "source": [
    "# Quiz Generation - Prompt and Chain Initialization"
   ]
  },
  {
   "cell_type": "code",
   "execution_count": 5,
   "metadata": {},
   "outputs": [],
   "source": [
    "RESPONSE_JSON = {\n",
    "    \"1\": {\n",
    "        \"tfq\": \"true false question\",\n",
    "        \"options\": {\n",
    "            \"a\": \"True\",\n",
    "            \"b\": \"False\"\n",
    "        },\n",
    "        \"correct\": \"correct answer\",\n",
    "    },\n",
    "    \"2\": {\n",
    "        \"tfq\": \"true false question\",\n",
    "        \"options\": {\n",
    "            \"a\": \"True\",\n",
    "            \"b\": \"False\"\n",
    "        },\n",
    "        \"correct\": \"correct answer\",\n",
    "    },\n",
    "    \"3\": {\n",
    "       \"tfq\": \"true false question\",\n",
    "        \"options\": {\n",
    "            \"a\": \"True\",\n",
    "            \"b\": \"False\"\n",
    "        },\n",
    "        \"correct\": \"correct answer\",\n",
    "    },\n",
    "}\n"
   ]
  },
  {
   "cell_type": "code",
   "execution_count": 6,
   "metadata": {},
   "outputs": [],
   "source": [
    "TEMPLATE = \"\"\"\n",
    "Text: {text}\n",
    "You are an expert True False Question maker. Given the above text, it is your job to \\\n",
    "create a quiz of {number} True/False questions for {subject} students in {tone} tone.\n",
    "Make sure the questions are not repeated and check all the questions to be conforming the text as well.\n",
    "Make sure to format your response likeRESPONSE_JSON below and use it as a guide. \\\n",
    "Ensure to make {number} TFQs\n",
    "\n",
    "### RESPONSE_JSON\n",
    "{response_json}\n",
    "\"\"\"\n",
    "\n",
    "# Here, tone implies difficulty level\n",
    "\n",
    "\n",
    "\n",
    "quizGen_prompt_template = PromptTemplate(\n",
    "    input_variables=[\"text\",\"number\",\"subject\",\"tone\",\"response_json\"],\n",
    "    template=TEMPLATE\n",
    ")\n",
    "\n",
    "\n",
    "quiz_chain = LLMChain(llm=llm,prompt=quizGen_prompt_template,output_key=\"quiz\",verbose=True)"
   ]
  },
  {
   "cell_type": "markdown",
   "metadata": {},
   "source": [
    "# Answer Evalusation Template Initiliazation"
   ]
  },
  {
   "cell_type": "code",
   "execution_count": 7,
   "metadata": {},
   "outputs": [],
   "source": [
    "TEMPLATE2=\"\"\"\n",
    "You are an expert english grammarian and writer. Given a True False Quiz for {subject} students.\\\n",
    "You need to evaluate the complexity of the question and give a complete analysis of the quiz. Only use at max 50 words for complexity analysis. \n",
    "if the quiz is not at per with the cognitive and analytical abilities of the students,\\\n",
    "update the quiz questions which needs to be changed and change the tone such that it perfectly fits the student abilities\n",
    "Quiz_TFQs:\n",
    "{quiz}\n",
    "\n",
    "Check from an expert English Writer of the above quiz:\n",
    "\"\"\"\n",
    "\n",
    "quizEval_prompt_template = PromptTemplate(input_variables=[\"subject\",\"quiz\"],template=TEMPLATE2)\n",
    "\n",
    "review_chain = LLMChain(llm=llm,prompt=quizEval_prompt_template,output_key=\"review\",verbose=True)"
   ]
  },
  {
   "cell_type": "markdown",
   "metadata": {},
   "source": [
    "# Sequential Chain Generation\n",
    "Let us now generate a chain of prompts and answers for the quiz generation task. Here, both the above chains will be combined to generate a single chain and give us the final output as desired."
   ]
  },
  {
   "cell_type": "code",
   "execution_count": 8,
   "metadata": {},
   "outputs": [],
   "source": [
    "evaluation_chain = SequentialChain(chains=[quiz_chain,review_chain],input_variables=[\"text\",\"number\",\"subject\",\"tone\",\"response_json\"],\n",
    "                        output_variables=[\"quiz\",\"review\"],verbose=True)"
   ]
  },
  {
   "cell_type": "markdown",
   "metadata": {},
   "source": [
    "# Data Loading"
   ]
  },
  {
   "cell_type": "code",
   "execution_count": 9,
   "metadata": {},
   "outputs": [
    {
     "name": "stdout",
     "output_type": "stream",
     "text": [
      "Machine learning (ML) is a field of study in artificial intelligence concerned with the development and study of statistical algorithms that can learn from data and generalize to unseen data, and thus perform tasks without explicit instructions.[1] Recently, artificial neural networks have been able to surpass many previous approaches in performance.[2][3]\n",
      "Machine learning approaches have been applied to many fields including natural language processing, computer vision, speech recognition, email filtering, agriculture, and medicine.[4][5] ML is known in its application across business problems under the name predictive analytics. Although not all machine learning is statistically based, computational statistics is an important source of the field's methods.\n",
      "The mathematical foundations of ML are provided by mathematical optimization (mathematical programming) methods. Data mining is a related (parallel) field of study, focusing on exploratory data analysis (EDA) through unsupervised learning.[7][8]\n",
      "From a theoretical viewpoint, probably approximately correct (PAC) learning provides a framework for describing machine learning.\n"
     ]
    }
   ],
   "source": [
    "file_path = '../data.txt'\n",
    "with open(file_path,'r') as file:\n",
    "    TEXT = file.read()\n",
    "\n",
    "print(TEXT)"
   ]
  },
  {
   "cell_type": "code",
   "execution_count": 10,
   "metadata": {},
   "outputs": [
    {
     "data": {
      "text/plain": [
       "'{\"1\": {\"tfq\": \"true false question\", \"options\": {\"a\": \"True\", \"b\": \"False\"}, \"correct\": \"correct answer\"}, \"2\": {\"tfq\": \"true false question\", \"options\": {\"a\": \"True\", \"b\": \"False\"}, \"correct\": \"correct answer\"}, \"3\": {\"tfq\": \"true false question\", \"options\": {\"a\": \"True\", \"b\": \"False\"}, \"correct\": \"correct answer\"}}'"
      ]
     },
     "execution_count": 10,
     "metadata": {},
     "output_type": "execute_result"
    }
   ],
   "source": [
    "# Now, let us serialize the above python dictionary into a json-formatted string\n",
    "json.dumps(RESPONSE_JSON)"
   ]
  },
  {
   "cell_type": "markdown",
   "metadata": {},
   "source": [
    "# Callback Function for Quiz Generation\n",
    "Now, we will define a callback function that will be used to generate the quiz questions and answers. This function will be called by the chain to generate the quiz questions and answers. By this, we can track the tokens used in the prompt and the answer and get the cost of the prompt and the answer. Read more here [here](https://python.langchain.com/docs/modules/model_io/llms/token_usage_tracking)."
   ]
  },
  {
   "cell_type": "code",
   "execution_count": 11,
   "metadata": {},
   "outputs": [],
   "source": [
    "NUMBER = 5\n",
    "SUBJECT = \"Machine Learning\"\n",
    "TONE = \"Simple\""
   ]
  },
  {
   "cell_type": "code",
   "execution_count": 12,
   "metadata": {},
   "outputs": [
    {
     "name": "stderr",
     "output_type": "stream",
     "text": [
      "/Users/dhruv/Desktop/Machine_Learning/Projects/MCQ_Generator/.venv/lib/python3.9/site-packages/langchain_core/_api/deprecation.py:117: LangChainDeprecationWarning: The function `__call__` was deprecated in LangChain 0.1.0 and will be removed in 0.2.0. Use invoke instead.\n",
      "  warn_deprecated(\n"
     ]
    },
    {
     "name": "stdout",
     "output_type": "stream",
     "text": [
      "\n",
      "\n",
      "\u001b[1m> Entering new SequentialChain chain...\u001b[0m\n",
      "\n",
      "\n",
      "\u001b[1m> Entering new LLMChain chain...\u001b[0m\n",
      "Prompt after formatting:\n",
      "\u001b[32;1m\u001b[1;3m\n",
      "Text: Machine learning (ML) is a field of study in artificial intelligence concerned with the development and study of statistical algorithms that can learn from data and generalize to unseen data, and thus perform tasks without explicit instructions.[1] Recently, artificial neural networks have been able to surpass many previous approaches in performance.[2][3]\n",
      "Machine learning approaches have been applied to many fields including natural language processing, computer vision, speech recognition, email filtering, agriculture, and medicine.[4][5] ML is known in its application across business problems under the name predictive analytics. Although not all machine learning is statistically based, computational statistics is an important source of the field's methods.\n",
      "The mathematical foundations of ML are provided by mathematical optimization (mathematical programming) methods. Data mining is a related (parallel) field of study, focusing on exploratory data analysis (EDA) through unsupervised learning.[7][8]\n",
      "From a theoretical viewpoint, probably approximately correct (PAC) learning provides a framework for describing machine learning.\n",
      "You are an expert True False Question maker. Given the above text, it is your job to create a quiz of 5 True/False questions for Machine Learning students in Simple tone.\n",
      "Make sure the questions are not repeated and check all the questions to be conforming the text as well.\n",
      "Make sure to format your response likeRESPONSE_JSON below and use it as a guide. Ensure to make 5 MCQs\n",
      "\n",
      "### RESPONSE_JSON\n",
      "{\"1\": {\"tfq\": \"true false question\", \"options\": {\"a\": \"True\", \"b\": \"False\"}, \"correct\": \"correct answer\"}, \"2\": {\"tfq\": \"true false question\", \"options\": {\"a\": \"True\", \"b\": \"False\"}, \"correct\": \"correct answer\"}, \"3\": {\"tfq\": \"true false question\", \"options\": {\"a\": \"True\", \"b\": \"False\"}, \"correct\": \"correct answer\"}}\n",
      "\u001b[0m\n",
      "\n",
      "\u001b[1m> Finished chain.\u001b[0m\n",
      "\n",
      "\n",
      "\u001b[1m> Entering new LLMChain chain...\u001b[0m\n",
      "Prompt after formatting:\n",
      "\u001b[32;1m\u001b[1;3m\n",
      "You are an expert english grammarian and writer. Given a True False Quiz for Machine Learning students.You need to evaluate the complexity of the question and give a complete analysis of the quiz. Only use at max 50 words for complexity analysis. \n",
      "if the quiz is not at per with the cognitive and analytical abilities of the students,update the quiz questions which needs to be changed and change the tone such that it perfectly fits the student abilities\n",
      "Quiz_TFQs:\n",
      "\n",
      "{\n",
      "  \"1\": {\n",
      "    \"tfq\": \"Machine learning is a field of study in artificial intelligence concerned with the development and study of statistical algorithms.\",\n",
      "    \"options\": {\n",
      "      \"a\": \"True\",\n",
      "      \"b\": \"False\"\n",
      "    },\n",
      "    \"correct\": \"True\"\n",
      "  },\n",
      "  \"2\": {\n",
      "    \"tfq\": \"Artificial neural networks have not been able to surpass many previous approaches in performance.\",\n",
      "    \"options\": {\n",
      "      \"a\": \"True\",\n",
      "      \"b\": \"False\"\n",
      "    },\n",
      "    \"correct\": \"False\"\n",
      "  },\n",
      "  \"3\": {\n",
      "    \"tfq\": \"Data mining is a field of study focusing on exploratory data analysis through supervised learning.\",\n",
      "    \"options\": {\n",
      "      \"a\": \"True\",\n",
      "      \"b\": \"False\"\n",
      "    },\n",
      "    \"correct\": \"False\"\n",
      "  },\n",
      "  \"4\": {\n",
      "    \"tfq\": \"PAC learning provides a framework for describing machine learning from a theoretical viewpoint.\",\n",
      "    \"options\": {\n",
      "      \"a\": \"True\",\n",
      "      \"b\": \"False\"\n",
      "    },\n",
      "    \"correct\": \"True\"\n",
      "  },\n",
      "  \"5\": {\n",
      "    \"tfq\": \"Computational statistics is not an important source of machine learning methods.\",\n",
      "    \"options\": {\n",
      "      \"a\": \"True\",\n",
      "      \"b\": \"False\"\n",
      "    },\n",
      "    \"correct\": \"False\"\n",
      "  }\n",
      "}\n",
      "\n",
      "Check from an expert English Writer of the above quiz:\n",
      "\u001b[0m\n",
      "\n",
      "\u001b[1m> Finished chain.\u001b[0m\n",
      "\n",
      "\u001b[1m> Finished chain.\u001b[0m\n"
     ]
    }
   ],
   "source": [
    "with get_openai_callback() as cb:\n",
    "    response=evaluation_chain(\n",
    "        {\n",
    "            \"text\": TEXT,\n",
    "            \"number\": NUMBER,\n",
    "            \"subject\":SUBJECT,\n",
    "            \"tone\": TONE,\n",
    "            \"response_json\": json.dumps(RESPONSE_JSON)\n",
    "        }\n",
    "        )"
   ]
  },
  {
   "cell_type": "markdown",
   "metadata": {},
   "source": [
    "Let us get the token usage of the prompt and the answer."
   ]
  },
  {
   "cell_type": "code",
   "execution_count": 13,
   "metadata": {},
   "outputs": [
    {
     "name": "stdout",
     "output_type": "stream",
     "text": [
      "Total Tokens:1144\n",
      "Prompt Tokens:803\n",
      "Completion Tokens:341\n",
      "Total Cost in USD:0.0018865000000000002\n"
     ]
    }
   ],
   "source": [
    "print(f\"Total Tokens:{cb.total_tokens}\")\n",
    "print(f\"Prompt Tokens:{cb.prompt_tokens}\")\n",
    "print(f\"Completion Tokens:{cb.completion_tokens}\")\n",
    "print(f\"Total Cost in USD:{cb.total_cost}\")"
   ]
  },
  {
   "cell_type": "markdown",
   "metadata": {},
   "source": [
    "Let us now try to get the response from the chain and see our quiz."
   ]
  },
  {
   "cell_type": "code",
   "execution_count": 14,
   "metadata": {},
   "outputs": [
    {
     "data": {
      "text/plain": [
       "{'text': \"Machine learning (ML) is a field of study in artificial intelligence concerned with the development and study of statistical algorithms that can learn from data and generalize to unseen data, and thus perform tasks without explicit instructions.[1] Recently, artificial neural networks have been able to surpass many previous approaches in performance.[2][3]\\nMachine learning approaches have been applied to many fields including natural language processing, computer vision, speech recognition, email filtering, agriculture, and medicine.[4][5] ML is known in its application across business problems under the name predictive analytics. Although not all machine learning is statistically based, computational statistics is an important source of the field's methods.\\nThe mathematical foundations of ML are provided by mathematical optimization (mathematical programming) methods. Data mining is a related (parallel) field of study, focusing on exploratory data analysis (EDA) through unsupervised learning.[7][8]\\nFrom a theoretical viewpoint, probably approximately correct (PAC) learning provides a framework for describing machine learning.\",\n",
       " 'number': 5,\n",
       " 'subject': 'Machine Learning',\n",
       " 'tone': 'Simple',\n",
       " 'response_json': '{\"1\": {\"tfq\": \"true false question\", \"options\": {\"a\": \"True\", \"b\": \"False\"}, \"correct\": \"correct answer\"}, \"2\": {\"tfq\": \"true false question\", \"options\": {\"a\": \"True\", \"b\": \"False\"}, \"correct\": \"correct answer\"}, \"3\": {\"tfq\": \"true false question\", \"options\": {\"a\": \"True\", \"b\": \"False\"}, \"correct\": \"correct answer\"}}',\n",
       " 'quiz': '\\n{\\n  \"1\": {\\n    \"tfq\": \"Machine learning is a field of study in artificial intelligence concerned with the development and study of statistical algorithms.\",\\n    \"options\": {\\n      \"a\": \"True\",\\n      \"b\": \"False\"\\n    },\\n    \"correct\": \"True\"\\n  },\\n  \"2\": {\\n    \"tfq\": \"Artificial neural networks have not been able to surpass many previous approaches in performance.\",\\n    \"options\": {\\n      \"a\": \"True\",\\n      \"b\": \"False\"\\n    },\\n    \"correct\": \"False\"\\n  },\\n  \"3\": {\\n    \"tfq\": \"Data mining is a field of study focusing on exploratory data analysis through supervised learning.\",\\n    \"options\": {\\n      \"a\": \"True\",\\n      \"b\": \"False\"\\n    },\\n    \"correct\": \"False\"\\n  },\\n  \"4\": {\\n    \"tfq\": \"PAC learning provides a framework for describing machine learning from a theoretical viewpoint.\",\\n    \"options\": {\\n      \"a\": \"True\",\\n      \"b\": \"False\"\\n    },\\n    \"correct\": \"True\"\\n  },\\n  \"5\": {\\n    \"tfq\": \"Computational statistics is not an important source of machine learning methods.\",\\n    \"options\": {\\n      \"a\": \"True\",\\n      \"b\": \"False\"\\n    },\\n    \"correct\": \"False\"\\n  }\\n}',\n",
       " 'review': 'The complexity of the quiz questions is appropriate for Machine Learning students. The questions cover key concepts in the field and require a good understanding of the subject matter. The language used is clear and concise, making it accessible to the target audience. No changes are necessary.'}"
      ]
     },
     "execution_count": 14,
     "metadata": {},
     "output_type": "execute_result"
    }
   ],
   "source": [
    "response"
   ]
  },
  {
   "cell_type": "code",
   "execution_count": 15,
   "metadata": {},
   "outputs": [
    {
     "data": {
      "text/plain": [
       "{'1': {'tfq': 'Machine learning is a field of study in artificial intelligence concerned with the development and study of statistical algorithms.',\n",
       "  'options': {'a': 'True', 'b': 'False'},\n",
       "  'correct': 'True'},\n",
       " '2': {'tfq': 'Artificial neural networks have not been able to surpass many previous approaches in performance.',\n",
       "  'options': {'a': 'True', 'b': 'False'},\n",
       "  'correct': 'False'},\n",
       " '3': {'tfq': 'Data mining is a field of study focusing on exploratory data analysis through supervised learning.',\n",
       "  'options': {'a': 'True', 'b': 'False'},\n",
       "  'correct': 'False'},\n",
       " '4': {'tfq': 'PAC learning provides a framework for describing machine learning from a theoretical viewpoint.',\n",
       "  'options': {'a': 'True', 'b': 'False'},\n",
       "  'correct': 'True'},\n",
       " '5': {'tfq': 'Computational statistics is not an important source of machine learning methods.',\n",
       "  'options': {'a': 'True', 'b': 'False'},\n",
       "  'correct': 'False'}}"
      ]
     },
     "execution_count": 15,
     "metadata": {},
     "output_type": "execute_result"
    }
   ],
   "source": [
    "quiz = response.get('quiz')\n",
    "quiz = json.loads(quiz)\n",
    "quiz"
   ]
  },
  {
   "cell_type": "markdown",
   "metadata": {},
   "source": [
    "Let us now convert the response to a DataFrame and display the quiz."
   ]
  },
  {
   "cell_type": "code",
   "execution_count": 18,
   "metadata": {},
   "outputs": [],
   "source": [
    "quiz_table_data = []\n",
    "for key, value in quiz.items():\n",
    "    tfq = value[\"tfq\"]\n",
    "    options = \" | \".join(\n",
    "        [\n",
    "            f\"{option}: {option_value}\"\n",
    "            for option, option_value in value[\"options\"].items()\n",
    "            ]\n",
    "        )\n",
    "    correct = value[\"correct\"]\n",
    "    quiz_table_data.append({\"TFQ\": tfq, \"Choices\": options, \"Correct\": correct})"
   ]
  },
  {
   "cell_type": "code",
   "execution_count": 20,
   "metadata": {},
   "outputs": [
    {
     "data": {
      "text/html": [
       "<div>\n",
       "<style scoped>\n",
       "    .dataframe tbody tr th:only-of-type {\n",
       "        vertical-align: middle;\n",
       "    }\n",
       "\n",
       "    .dataframe tbody tr th {\n",
       "        vertical-align: top;\n",
       "    }\n",
       "\n",
       "    .dataframe thead th {\n",
       "        text-align: right;\n",
       "    }\n",
       "</style>\n",
       "<table border=\"1\" class=\"dataframe\">\n",
       "  <thead>\n",
       "    <tr style=\"text-align: right;\">\n",
       "      <th></th>\n",
       "      <th>TFQ</th>\n",
       "      <th>Choices</th>\n",
       "      <th>Correct</th>\n",
       "    </tr>\n",
       "  </thead>\n",
       "  <tbody>\n",
       "    <tr>\n",
       "      <th>0</th>\n",
       "      <td>Machine learning is a field of study in artifi...</td>\n",
       "      <td>a: True | b: False</td>\n",
       "      <td>True</td>\n",
       "    </tr>\n",
       "    <tr>\n",
       "      <th>1</th>\n",
       "      <td>Artificial neural networks have not been able ...</td>\n",
       "      <td>a: True | b: False</td>\n",
       "      <td>False</td>\n",
       "    </tr>\n",
       "    <tr>\n",
       "      <th>2</th>\n",
       "      <td>Data mining is a field of study focusing on ex...</td>\n",
       "      <td>a: True | b: False</td>\n",
       "      <td>False</td>\n",
       "    </tr>\n",
       "    <tr>\n",
       "      <th>3</th>\n",
       "      <td>PAC learning provides a framework for describi...</td>\n",
       "      <td>a: True | b: False</td>\n",
       "      <td>True</td>\n",
       "    </tr>\n",
       "    <tr>\n",
       "      <th>4</th>\n",
       "      <td>Computational statistics is not an important s...</td>\n",
       "      <td>a: True | b: False</td>\n",
       "      <td>False</td>\n",
       "    </tr>\n",
       "  </tbody>\n",
       "</table>\n",
       "</div>"
      ],
      "text/plain": [
       "                                                 TFQ             Choices  \\\n",
       "0  Machine learning is a field of study in artifi...  a: True | b: False   \n",
       "1  Artificial neural networks have not been able ...  a: True | b: False   \n",
       "2  Data mining is a field of study focusing on ex...  a: True | b: False   \n",
       "3  PAC learning provides a framework for describi...  a: True | b: False   \n",
       "4  Computational statistics is not an important s...  a: True | b: False   \n",
       "\n",
       "  Correct  \n",
       "0    True  \n",
       "1   False  \n",
       "2   False  \n",
       "3    True  \n",
       "4   False  "
      ]
     },
     "execution_count": 20,
     "metadata": {},
     "output_type": "execute_result"
    }
   ],
   "source": [
    "quiz = pd.DataFrame(quiz_table_data)\n",
    "quiz"
   ]
  },
  {
   "cell_type": "markdown",
   "metadata": {},
   "source": [
    "Now finally, we can export the above DataFrame to a csv file."
   ]
  },
  {
   "cell_type": "code",
   "execution_count": 22,
   "metadata": {},
   "outputs": [],
   "source": [
    "quiz.to_csv(\"ML_TF_Quiz.csv\",index= False)"
   ]
  }
 ],
 "metadata": {
  "kernelspec": {
   "display_name": ".venv",
   "language": "python",
   "name": "python3"
  },
  "language_info": {
   "codemirror_mode": {
    "name": "ipython",
    "version": 3
   },
   "file_extension": ".py",
   "mimetype": "text/x-python",
   "name": "python",
   "nbconvert_exporter": "python",
   "pygments_lexer": "ipython3",
   "version": "3.9.6"
  },
  "orig_nbformat": 4
 },
 "nbformat": 4,
 "nbformat_minor": 2
}
